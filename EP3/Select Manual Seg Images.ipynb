{
 "cells": [
  {
   "cell_type": "code",
   "execution_count": 10,
   "metadata": {},
   "outputs": [],
   "source": [
    "from shutil import copy2\n",
    "import os"
   ]
  },
  {
   "cell_type": "code",
   "execution_count": 11,
   "metadata": {},
   "outputs": [],
   "source": [
    "seg_directory = \"../Imagens/ManualSegmentatedGrayDataset\"\n",
    "base_directory = \"../Imagens/AugmentedDataset\""
   ]
  },
  {
   "cell_type": "code",
   "execution_count": 12,
   "metadata": {},
   "outputs": [],
   "source": [
    "def copy_files(source_dir,seg_directory):\n",
    "    classes_dir = os.listdir(source_dir)\n",
    "    i = 0\n",
    "    for class_folder in classes_dir:\n",
    "        target_class_dir = os.path.join(seg_directory,class_folder+'_original')\n",
    "        if not os.path.exists(target_class_dir):\n",
    "            os.makedirs(target_class_dir)\n",
    "        source_class_dir = os.path.join(base_directory,class_folder)\n",
    "        seg_dir = os.path.join(seg_directory,class_folder)\n",
    "        files = os.listdir(seg_dir)\n",
    "        for f in files:\n",
    "            source_filename = os.path.join(source_class_dir,f)\n",
    "            target_filename =  os.path.join(target_class_dir,f)\n",
    "            copy2(source_filename,target_filename)\n",
    "            i+=1\n",
    "    print(\"Finalizado. {} imagens foram processadas.\".format(i))\n",
    "    return"
   ]
  },
  {
   "cell_type": "code",
   "execution_count": 13,
   "metadata": {},
   "outputs": [
    {
     "name": "stdout",
     "output_type": "stream",
     "text": [
      "Finalizado. 895 imagens foram processadas.\n"
     ]
    }
   ],
   "source": [
    "copy_files(base_directory,seg_directory)"
   ]
  },
  {
   "cell_type": "code",
   "execution_count": null,
   "metadata": {},
   "outputs": [],
   "source": []
  }
 ],
 "metadata": {
  "kernelspec": {
   "display_name": "Python 3",
   "language": "python",
   "name": "python3"
  },
  "language_info": {
   "codemirror_mode": {
    "name": "ipython",
    "version": 3
   },
   "file_extension": ".py",
   "mimetype": "text/x-python",
   "name": "python",
   "nbconvert_exporter": "python",
   "pygments_lexer": "ipython3",
   "version": "3.7.4"
  }
 },
 "nbformat": 4,
 "nbformat_minor": 4
}
