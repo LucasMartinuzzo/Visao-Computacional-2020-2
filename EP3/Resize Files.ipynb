{
 "cells": [
  {
   "cell_type": "code",
   "execution_count": 1,
   "metadata": {},
   "outputs": [],
   "source": [
    "from shutil import copy2\n",
    "import os\n",
    "import numpy as np\n",
    "from PIL import Image, ImageOps"
   ]
  },
  {
   "cell_type": "code",
   "execution_count": 2,
   "metadata": {},
   "outputs": [],
   "source": [
    "base_directory = \"./unet-master/data/caneca/train/image\"\n",
    "seg_directory = \"./unet-master/data/caneca/train/label\""
   ]
  },
  {
   "cell_type": "code",
   "execution_count": 3,
   "metadata": {},
   "outputs": [],
   "source": [
    "def resize_files_image_label(source_dir,seg_directory):\n",
    "    files = os.listdir(source_dir)\n",
    "    i = 0\n",
    "    for f in files:\n",
    "        source_filename = os.path.join(source_dir,f)\n",
    "        seg_filename =  os.path.join(seg_directory,f)\n",
    "        image = Image.open(source_filename)\n",
    "        mask = Image.open(seg_filename)\n",
    "        width, height = mask.size\n",
    "        image = image.resize((width//3, height//3), Image.ANTIALIAS)\n",
    "        mask = mask.resize((width//3, height//3), Image.ANTIALIAS)\n",
    "        #image = ImageOps.grayscale(image)\n",
    "        #mask = ImageOps.grayscale(mask)\n",
    "        image.save(source_filename, 'PNG', quality=95)\n",
    "        mask.save(seg_filename, 'PNG', quality=95)\n",
    "        i+=1\n",
    "    print(\"Finalizado. {} imagens foram processadas.\".format(i))\n",
    "    return"
   ]
  },
  {
   "cell_type": "code",
   "execution_count": 4,
   "metadata": {},
   "outputs": [],
   "source": [
    "def resize_files_test(source_dir):\n",
    "    files = os.listdir(source_dir)\n",
    "    i = 0\n",
    "    for f in files:\n",
    "        source_filename = os.path.join(source_dir,f)\n",
    "        image = Image.open(source_filename)\n",
    "        width, height = image.size\n",
    "        image = image.resize((width//3, height//3), Image.ANTIALIAS)\n",
    "        image.save(source_filename, 'PNG', quality=95)\n",
    "        i+=1\n",
    "    print(\"Finalizado. {} imagens foram processadas.\".format(i))\n",
    "    return"
   ]
  },
  {
   "cell_type": "code",
   "execution_count": 5,
   "metadata": {},
   "outputs": [],
   "source": [
    "classes = ['caneta','chave','creme_dental','faca','fio_dental','meia','perfume','pilha','shampoo']"
   ]
  },
  {
   "cell_type": "code",
   "execution_count": 6,
   "metadata": {},
   "outputs": [
    {
     "name": "stdout",
     "output_type": "stream",
     "text": [
      "Finalizado. 90 imagens foram processadas.\n",
      "Finalizado. 540 imagens foram processadas.\n",
      "Finalizado. 95 imagens foram processadas.\n",
      "Finalizado. 540 imagens foram processadas.\n",
      "Finalizado. 90 imagens foram processadas.\n",
      "Finalizado. 540 imagens foram processadas.\n",
      "Finalizado. 90 imagens foram processadas.\n",
      "Finalizado. 540 imagens foram processadas.\n",
      "Finalizado. 85 imagens foram processadas.\n",
      "Finalizado. 540 imagens foram processadas.\n",
      "Finalizado. 90 imagens foram processadas.\n",
      "Finalizado. 540 imagens foram processadas.\n",
      "Finalizado. 90 imagens foram processadas.\n",
      "Finalizado. 540 imagens foram processadas.\n",
      "Finalizado. 90 imagens foram processadas.\n",
      "Finalizado. 540 imagens foram processadas.\n",
      "Finalizado. 85 imagens foram processadas.\n",
      "Finalizado. 540 imagens foram processadas.\n"
     ]
    }
   ],
   "source": [
    "for classe in classes:\n",
    "    print(classe)\n",
    "    image_dic = os.path.join(\"./unet-master/data/\",classe,\"train/image\")\n",
    "    label_dic= os.path.join(\"./unet-master/data/\",classe,\"train/label\")\n",
    "    test_dic= os.path.join(\"./unet-master/data/\",classe,\"test\")\n",
    "    resize_files_image_label(image_dic,label_dic)\n",
    "    resize_files_test(test_dic)"
   ]
  },
  {
   "cell_type": "code",
   "execution_count": 7,
   "metadata": {},
   "outputs": [],
   "source": [
    "#resize_files_two_folder(base_directory,seg_directory)"
   ]
  },
  {
   "cell_type": "code",
   "execution_count": 8,
   "metadata": {},
   "outputs": [],
   "source": [
    "#test_directory = \"./unet-master/data/caneca/test\""
   ]
  },
  {
   "cell_type": "code",
   "execution_count": 9,
   "metadata": {},
   "outputs": [],
   "source": [
    "#resize_files_one_folder(test_directory)"
   ]
  },
  {
   "cell_type": "code",
   "execution_count": null,
   "metadata": {},
   "outputs": [],
   "source": []
  }
 ],
 "metadata": {
  "kernelspec": {
   "display_name": "Python 3",
   "language": "python",
   "name": "python3"
  },
  "language_info": {
   "codemirror_mode": {
    "name": "ipython",
    "version": 3
   },
   "file_extension": ".py",
   "mimetype": "text/x-python",
   "name": "python",
   "nbconvert_exporter": "python",
   "pygments_lexer": "ipython3",
   "version": "3.7.4"
  }
 },
 "nbformat": 4,
 "nbformat_minor": 4
}
