{
 "cells": [
  {
   "cell_type": "markdown",
   "metadata": {},
   "source": [
    "# MAC0417/5768 - Visão e Processamento de Imagens\n",
    "\n",
    "**Aluno**: Lucas Martinuzzo Batista\n",
    "\n",
    "## EP3.2 Classificação do objeto de interesse\n",
    "O objetivo desta etapa é classificar as imagens segmentadas e medir a performance de classificação.\n",
    "\n",
    "O treinamento será feito com as segmentações feitas automaticamente, enquanto o teste será validado utilizando as segmentações feitas manualmente."
   ]
  },
  {
   "cell_type": "markdown",
   "metadata": {},
   "source": [
    "### Link do Repositório:\n",
    "https://github.com/LucasMartinuzzo/Visao-Computacional-2020-2\n",
    "\n",
    "### Google Drive (Apenas Imagens)\n",
    "\n",
    "https://drive.google.com/drive/folders/1CSLHaRzTfbsbN09WyKYIs3qf_qiBkQGT?usp=sharing"
   ]
  },
  {
   "cell_type": "markdown",
   "metadata": {},
   "source": [
    "### Tabela Global Sumária da Base\n",
    "\n",
    "| Atributo | Valor |\n",
    "| :- | -: |\n",
    "| Número de Classes | 10 |\n",
    "| Número de Imagens Diferentes | 5400 |\n",
    "| Tamanho da Base| 218 mb |\n",
    "| Dimensão | 240 x 320 px |"
   ]
  },
  {
   "cell_type": "code",
   "execution_count": 237,
   "metadata": {},
   "outputs": [],
   "source": [
    "import pandas as pd\n",
    "import numpy as np\n",
    "import os\n",
    "import cv2\n",
    "from math import copysign,log10\n",
    "from sklearn.decomposition import PCA\n",
    "import matplotlib.pyplot as plt\n",
    "from sklearn import preprocessing\n",
    "from sklearn.tree import DecisionTreeClassifier\n",
    "from sklearn import svm, datasets\n",
    "from sklearn.metrics import confusion_matrix\n",
    "from sklearn.metrics import classification_report\n",
    "# Turn on interactive mode. Turn off with plt.ioff()\n",
    "plt.ion()\n",
    "%matplotlib inline"
   ]
  },
  {
   "cell_type": "code",
   "execution_count": 238,
   "metadata": {},
   "outputs": [],
   "source": [
    "train_bb_path = 'BoundingBoxes/AutomaticSeg'\n",
    "test_bb_path = 'BoundingBoxes/ManualSeg'"
   ]
  },
  {
   "cell_type": "code",
   "execution_count": 239,
   "metadata": {},
   "outputs": [],
   "source": [
    "def makeBoudingBoxDF(path):\n",
    "    bb = []\n",
    "    files = os.listdir(path)\n",
    "    for file in files:\n",
    "        df = pd.read_csv(os.path.join(path,file))\n",
    "        df['classe'] = file.split('.')[0]\n",
    "        bb.append(df)\n",
    "    return pd.concat(bb)"
   ]
  },
  {
   "cell_type": "code",
   "execution_count": 240,
   "metadata": {},
   "outputs": [],
   "source": [
    "train_df = makeBoudingBoxDF(train_bb_path)"
   ]
  },
  {
   "cell_type": "code",
   "execution_count": 241,
   "metadata": {},
   "outputs": [],
   "source": [
    "test_df = makeBoudingBoxDF(test_bb_path)"
   ]
  },
  {
   "cell_type": "code",
   "execution_count": 242,
   "metadata": {},
   "outputs": [
    {
     "name": "stdout",
     "output_type": "stream",
     "text": [
      "(5400, 6)\n"
     ]
    },
    {
     "data": {
      "text/html": [
       "<div>\n",
       "<style scoped>\n",
       "    .dataframe tbody tr th:only-of-type {\n",
       "        vertical-align: middle;\n",
       "    }\n",
       "\n",
       "    .dataframe tbody tr th {\n",
       "        vertical-align: top;\n",
       "    }\n",
       "\n",
       "    .dataframe thead th {\n",
       "        text-align: right;\n",
       "    }\n",
       "</style>\n",
       "<table border=\"1\" class=\"dataframe\">\n",
       "  <thead>\n",
       "    <tr style=\"text-align: right;\">\n",
       "      <th></th>\n",
       "      <th>file</th>\n",
       "      <th>x</th>\n",
       "      <th>y</th>\n",
       "      <th>w</th>\n",
       "      <th>h</th>\n",
       "      <th>classe</th>\n",
       "    </tr>\n",
       "  </thead>\n",
       "  <tbody>\n",
       "    <tr>\n",
       "      <th>0</th>\n",
       "      <td>../Imagens/UnetDataset/caneca\\results_pos\\0_pr...</td>\n",
       "      <td>43</td>\n",
       "      <td>51</td>\n",
       "      <td>149</td>\n",
       "      <td>184</td>\n",
       "      <td>caneca</td>\n",
       "    </tr>\n",
       "    <tr>\n",
       "      <th>1</th>\n",
       "      <td>../Imagens/UnetDataset/caneca\\results_pos\\100_...</td>\n",
       "      <td>24</td>\n",
       "      <td>92</td>\n",
       "      <td>134</td>\n",
       "      <td>145</td>\n",
       "      <td>caneca</td>\n",
       "    </tr>\n",
       "    <tr>\n",
       "      <th>2</th>\n",
       "      <td>../Imagens/UnetDataset/caneca\\results_pos\\101_...</td>\n",
       "      <td>46</td>\n",
       "      <td>76</td>\n",
       "      <td>148</td>\n",
       "      <td>160</td>\n",
       "      <td>caneca</td>\n",
       "    </tr>\n",
       "    <tr>\n",
       "      <th>3</th>\n",
       "      <td>../Imagens/UnetDataset/caneca\\results_pos\\102_...</td>\n",
       "      <td>19</td>\n",
       "      <td>100</td>\n",
       "      <td>164</td>\n",
       "      <td>174</td>\n",
       "      <td>caneca</td>\n",
       "    </tr>\n",
       "    <tr>\n",
       "      <th>4</th>\n",
       "      <td>../Imagens/UnetDataset/caneca\\results_pos\\103_...</td>\n",
       "      <td>32</td>\n",
       "      <td>134</td>\n",
       "      <td>128</td>\n",
       "      <td>133</td>\n",
       "      <td>caneca</td>\n",
       "    </tr>\n",
       "  </tbody>\n",
       "</table>\n",
       "</div>"
      ],
      "text/plain": [
       "                                                file   x    y    w    h  \\\n",
       "0  ../Imagens/UnetDataset/caneca\\results_pos\\0_pr...  43   51  149  184   \n",
       "1  ../Imagens/UnetDataset/caneca\\results_pos\\100_...  24   92  134  145   \n",
       "2  ../Imagens/UnetDataset/caneca\\results_pos\\101_...  46   76  148  160   \n",
       "3  ../Imagens/UnetDataset/caneca\\results_pos\\102_...  19  100  164  174   \n",
       "4  ../Imagens/UnetDataset/caneca\\results_pos\\103_...  32  134  128  133   \n",
       "\n",
       "   classe  \n",
       "0  caneca  \n",
       "1  caneca  \n",
       "2  caneca  \n",
       "3  caneca  \n",
       "4  caneca  "
      ]
     },
     "execution_count": 242,
     "metadata": {},
     "output_type": "execute_result"
    }
   ],
   "source": [
    "print(train_df.shape)\n",
    "train_df.head()"
   ]
  },
  {
   "cell_type": "code",
   "execution_count": 243,
   "metadata": {},
   "outputs": [
    {
     "name": "stdout",
     "output_type": "stream",
     "text": [
      "(895, 6)\n"
     ]
    },
    {
     "data": {
      "text/html": [
       "<div>\n",
       "<style scoped>\n",
       "    .dataframe tbody tr th:only-of-type {\n",
       "        vertical-align: middle;\n",
       "    }\n",
       "\n",
       "    .dataframe tbody tr th {\n",
       "        vertical-align: top;\n",
       "    }\n",
       "\n",
       "    .dataframe thead th {\n",
       "        text-align: right;\n",
       "    }\n",
       "</style>\n",
       "<table border=\"1\" class=\"dataframe\">\n",
       "  <thead>\n",
       "    <tr style=\"text-align: right;\">\n",
       "      <th></th>\n",
       "      <th>file</th>\n",
       "      <th>x</th>\n",
       "      <th>y</th>\n",
       "      <th>w</th>\n",
       "      <th>h</th>\n",
       "      <th>classe</th>\n",
       "    </tr>\n",
       "  </thead>\n",
       "  <tbody>\n",
       "    <tr>\n",
       "      <th>0</th>\n",
       "      <td>../Imagens/UnetDataset/caneca\\train/label\\0.png</td>\n",
       "      <td>32</td>\n",
       "      <td>41</td>\n",
       "      <td>167</td>\n",
       "      <td>202</td>\n",
       "      <td>caneca</td>\n",
       "    </tr>\n",
       "    <tr>\n",
       "      <th>1</th>\n",
       "      <td>../Imagens/UnetDataset/caneca\\train/label\\1.png</td>\n",
       "      <td>112</td>\n",
       "      <td>111</td>\n",
       "      <td>3</td>\n",
       "      <td>1</td>\n",
       "      <td>caneca</td>\n",
       "    </tr>\n",
       "    <tr>\n",
       "      <th>2</th>\n",
       "      <td>../Imagens/UnetDataset/caneca\\train/label\\10.png</td>\n",
       "      <td>47</td>\n",
       "      <td>120</td>\n",
       "      <td>173</td>\n",
       "      <td>171</td>\n",
       "      <td>caneca</td>\n",
       "    </tr>\n",
       "    <tr>\n",
       "      <th>3</th>\n",
       "      <td>../Imagens/UnetDataset/caneca\\train/label\\11.png</td>\n",
       "      <td>158</td>\n",
       "      <td>127</td>\n",
       "      <td>2</td>\n",
       "      <td>1</td>\n",
       "      <td>caneca</td>\n",
       "    </tr>\n",
       "    <tr>\n",
       "      <th>4</th>\n",
       "      <td>../Imagens/UnetDataset/caneca\\train/label\\12.png</td>\n",
       "      <td>130</td>\n",
       "      <td>205</td>\n",
       "      <td>2</td>\n",
       "      <td>1</td>\n",
       "      <td>caneca</td>\n",
       "    </tr>\n",
       "  </tbody>\n",
       "</table>\n",
       "</div>"
      ],
      "text/plain": [
       "                                               file    x    y    w    h  \\\n",
       "0   ../Imagens/UnetDataset/caneca\\train/label\\0.png   32   41  167  202   \n",
       "1   ../Imagens/UnetDataset/caneca\\train/label\\1.png  112  111    3    1   \n",
       "2  ../Imagens/UnetDataset/caneca\\train/label\\10.png   47  120  173  171   \n",
       "3  ../Imagens/UnetDataset/caneca\\train/label\\11.png  158  127    2    1   \n",
       "4  ../Imagens/UnetDataset/caneca\\train/label\\12.png  130  205    2    1   \n",
       "\n",
       "   classe  \n",
       "0  caneca  \n",
       "1  caneca  \n",
       "2  caneca  \n",
       "3  caneca  \n",
       "4  caneca  "
      ]
     },
     "execution_count": 243,
     "metadata": {},
     "output_type": "execute_result"
    }
   ],
   "source": [
    "print(test_df.shape)\n",
    "test_df.head()"
   ]
  },
  {
   "cell_type": "markdown",
   "metadata": {},
   "source": [
    "Hu moments são um conjunto de 7 números calculados utilizando momentos centraisque são invariantes a transformações de imagens.\n",
    "A função abaixo calcula estes valores para serem utilizados como variáveis de entrada do classificador."
   ]
  },
  {
   "cell_type": "code",
   "execution_count": 244,
   "metadata": {},
   "outputs": [],
   "source": [
    "def calculateHuMoments(image):\n",
    "    # Calculate Moment\n",
    "    moments = cv2.moments(image)\n",
    "    # Calculate Hu Moments\n",
    "    hu_moments= cv2.HuMoments(moments).reshape(-1)\n",
    "    for i in range(0,7):\n",
    "        if hu_moments[i] != 0:\n",
    "            hu_moments[i] = (-1)*copysign(1.0, hu_moments[i]) * log10(abs(hu_moments[i]))\n",
    "    return hu_moments"
   ]
  },
  {
   "cell_type": "markdown",
   "metadata": {},
   "source": [
    "A função abaixo lerá cada imagem e colocará o valor dos pixels no dataframe. Inverterei os valores, para que 0 seja fundo e 1 objeto. Ela também inserirá o HuMoment no dataframe."
   ]
  },
  {
   "cell_type": "code",
   "execution_count": 245,
   "metadata": {},
   "outputs": [],
   "source": [
    "def readImagesMakeAtributtes(bb_df):\n",
    "    images = []\n",
    "    hu_moments = []\n",
    "    for image_path in bb_df['file']:\n",
    "        image = cv2.imread(image_path,0)\n",
    "        image = np.invert(image)\n",
    "        image = image.reshape(-1)\n",
    "        images.append(image)\n",
    "        hu_moments.append(calculateHuMoments(image))\n",
    "    images_df = pd.DataFrame(images)\n",
    "    hu_moments_df = pd.DataFrame(hu_moments,columns=['HuMoment1','HuMoment2','HuMoment3','HuMoment4','HuMoment5','HuMoment6','HuMoment7'])\n",
    "    df = pd.concat([bb_df.reset_index(drop=True), hu_moments_df.reset_index(drop=True)], axis=1)\n",
    "    df = pd.concat([df.reset_index(drop=True), images_df.reset_index(drop=True)], axis=1)\n",
    "    return df"
   ]
  },
  {
   "cell_type": "markdown",
   "metadata": {},
   "source": [
    "**Aviso**: as operações abaixo irão consumir uma quantidade enorme de memória."
   ]
  },
  {
   "cell_type": "code",
   "execution_count": 246,
   "metadata": {},
   "outputs": [],
   "source": [
    "test_df = readImagesMakeAtributtes(test_df)"
   ]
  },
  {
   "cell_type": "code",
   "execution_count": 247,
   "metadata": {},
   "outputs": [],
   "source": [
    "train_df = readImagesMakeAtributtes(train_df)"
   ]
  },
  {
   "cell_type": "code",
   "execution_count": 248,
   "metadata": {},
   "outputs": [
    {
     "data": {
      "text/plain": [
       "(5400, 76813)"
      ]
     },
     "execution_count": 248,
     "metadata": {},
     "output_type": "execute_result"
    }
   ],
   "source": [
    "train_df.shape"
   ]
  },
  {
   "cell_type": "code",
   "execution_count": 249,
   "metadata": {},
   "outputs": [
    {
     "data": {
      "text/plain": [
       "(895, 76813)"
      ]
     },
     "execution_count": 249,
     "metadata": {},
     "output_type": "execute_result"
    }
   ],
   "source": [
    "test_df.shape"
   ]
  },
  {
   "cell_type": "code",
   "execution_count": 250,
   "metadata": {},
   "outputs": [
    {
     "data": {
      "text/html": [
       "<div>\n",
       "<style scoped>\n",
       "    .dataframe tbody tr th:only-of-type {\n",
       "        vertical-align: middle;\n",
       "    }\n",
       "\n",
       "    .dataframe tbody tr th {\n",
       "        vertical-align: top;\n",
       "    }\n",
       "\n",
       "    .dataframe thead th {\n",
       "        text-align: right;\n",
       "    }\n",
       "</style>\n",
       "<table border=\"1\" class=\"dataframe\">\n",
       "  <thead>\n",
       "    <tr style=\"text-align: right;\">\n",
       "      <th></th>\n",
       "      <th>file</th>\n",
       "      <th>x</th>\n",
       "      <th>y</th>\n",
       "      <th>w</th>\n",
       "      <th>h</th>\n",
       "      <th>classe</th>\n",
       "      <th>HuMoment1</th>\n",
       "      <th>HuMoment2</th>\n",
       "      <th>HuMoment3</th>\n",
       "      <th>HuMoment4</th>\n",
       "      <th>...</th>\n",
       "      <th>76790</th>\n",
       "      <th>76791</th>\n",
       "      <th>76792</th>\n",
       "      <th>76793</th>\n",
       "      <th>76794</th>\n",
       "      <th>76795</th>\n",
       "      <th>76796</th>\n",
       "      <th>76797</th>\n",
       "      <th>76798</th>\n",
       "      <th>76799</th>\n",
       "    </tr>\n",
       "  </thead>\n",
       "  <tbody>\n",
       "    <tr>\n",
       "      <th>0</th>\n",
       "      <td>../Imagens/UnetDataset/caneca\\train/label\\0.png</td>\n",
       "      <td>32</td>\n",
       "      <td>41</td>\n",
       "      <td>167</td>\n",
       "      <td>202</td>\n",
       "      <td>caneca</td>\n",
       "      <td>-1.439446</td>\n",
       "      <td>-2.878893</td>\n",
       "      <td>-2.567206</td>\n",
       "      <td>-2.567206</td>\n",
       "      <td>...</td>\n",
       "      <td>0</td>\n",
       "      <td>0</td>\n",
       "      <td>0</td>\n",
       "      <td>0</td>\n",
       "      <td>0</td>\n",
       "      <td>0</td>\n",
       "      <td>0</td>\n",
       "      <td>0</td>\n",
       "      <td>0</td>\n",
       "      <td>0</td>\n",
       "    </tr>\n",
       "    <tr>\n",
       "      <th>1</th>\n",
       "      <td>../Imagens/UnetDataset/caneca\\train/label\\1.png</td>\n",
       "      <td>112</td>\n",
       "      <td>111</td>\n",
       "      <td>3</td>\n",
       "      <td>1</td>\n",
       "      <td>caneca</td>\n",
       "      <td>-1.416288</td>\n",
       "      <td>-2.832576</td>\n",
       "      <td>-2.674884</td>\n",
       "      <td>-2.674884</td>\n",
       "      <td>...</td>\n",
       "      <td>0</td>\n",
       "      <td>0</td>\n",
       "      <td>0</td>\n",
       "      <td>0</td>\n",
       "      <td>0</td>\n",
       "      <td>0</td>\n",
       "      <td>0</td>\n",
       "      <td>0</td>\n",
       "      <td>0</td>\n",
       "      <td>0</td>\n",
       "    </tr>\n",
       "    <tr>\n",
       "      <th>2</th>\n",
       "      <td>../Imagens/UnetDataset/caneca\\train/label\\10.png</td>\n",
       "      <td>47</td>\n",
       "      <td>120</td>\n",
       "      <td>173</td>\n",
       "      <td>171</td>\n",
       "      <td>caneca</td>\n",
       "      <td>-1.375487</td>\n",
       "      <td>-2.750975</td>\n",
       "      <td>-2.473989</td>\n",
       "      <td>-2.473989</td>\n",
       "      <td>...</td>\n",
       "      <td>0</td>\n",
       "      <td>0</td>\n",
       "      <td>0</td>\n",
       "      <td>0</td>\n",
       "      <td>0</td>\n",
       "      <td>0</td>\n",
       "      <td>0</td>\n",
       "      <td>0</td>\n",
       "      <td>0</td>\n",
       "      <td>0</td>\n",
       "    </tr>\n",
       "    <tr>\n",
       "      <th>3</th>\n",
       "      <td>../Imagens/UnetDataset/caneca\\train/label\\11.png</td>\n",
       "      <td>158</td>\n",
       "      <td>127</td>\n",
       "      <td>2</td>\n",
       "      <td>1</td>\n",
       "      <td>caneca</td>\n",
       "      <td>-1.372454</td>\n",
       "      <td>-2.744907</td>\n",
       "      <td>-2.451072</td>\n",
       "      <td>-2.451072</td>\n",
       "      <td>...</td>\n",
       "      <td>0</td>\n",
       "      <td>0</td>\n",
       "      <td>0</td>\n",
       "      <td>0</td>\n",
       "      <td>0</td>\n",
       "      <td>0</td>\n",
       "      <td>0</td>\n",
       "      <td>0</td>\n",
       "      <td>0</td>\n",
       "      <td>0</td>\n",
       "    </tr>\n",
       "    <tr>\n",
       "      <th>4</th>\n",
       "      <td>../Imagens/UnetDataset/caneca\\train/label\\12.png</td>\n",
       "      <td>130</td>\n",
       "      <td>205</td>\n",
       "      <td>2</td>\n",
       "      <td>1</td>\n",
       "      <td>caneca</td>\n",
       "      <td>-1.378083</td>\n",
       "      <td>-2.756166</td>\n",
       "      <td>-1.136310</td>\n",
       "      <td>-1.136310</td>\n",
       "      <td>...</td>\n",
       "      <td>0</td>\n",
       "      <td>0</td>\n",
       "      <td>0</td>\n",
       "      <td>0</td>\n",
       "      <td>0</td>\n",
       "      <td>0</td>\n",
       "      <td>0</td>\n",
       "      <td>0</td>\n",
       "      <td>0</td>\n",
       "      <td>0</td>\n",
       "    </tr>\n",
       "  </tbody>\n",
       "</table>\n",
       "<p>5 rows × 76813 columns</p>\n",
       "</div>"
      ],
      "text/plain": [
       "                                               file    x    y    w    h  \\\n",
       "0   ../Imagens/UnetDataset/caneca\\train/label\\0.png   32   41  167  202   \n",
       "1   ../Imagens/UnetDataset/caneca\\train/label\\1.png  112  111    3    1   \n",
       "2  ../Imagens/UnetDataset/caneca\\train/label\\10.png   47  120  173  171   \n",
       "3  ../Imagens/UnetDataset/caneca\\train/label\\11.png  158  127    2    1   \n",
       "4  ../Imagens/UnetDataset/caneca\\train/label\\12.png  130  205    2    1   \n",
       "\n",
       "   classe  HuMoment1  HuMoment2  HuMoment3  HuMoment4  ...  76790  76791  \\\n",
       "0  caneca  -1.439446  -2.878893  -2.567206  -2.567206  ...      0      0   \n",
       "1  caneca  -1.416288  -2.832576  -2.674884  -2.674884  ...      0      0   \n",
       "2  caneca  -1.375487  -2.750975  -2.473989  -2.473989  ...      0      0   \n",
       "3  caneca  -1.372454  -2.744907  -2.451072  -2.451072  ...      0      0   \n",
       "4  caneca  -1.378083  -2.756166  -1.136310  -1.136310  ...      0      0   \n",
       "\n",
       "   76792  76793  76794  76795  76796  76797  76798  76799  \n",
       "0      0      0      0      0      0      0      0      0  \n",
       "1      0      0      0      0      0      0      0      0  \n",
       "2      0      0      0      0      0      0      0      0  \n",
       "3      0      0      0      0      0      0      0      0  \n",
       "4      0      0      0      0      0      0      0      0  \n",
       "\n",
       "[5 rows x 76813 columns]"
      ]
     },
     "execution_count": 250,
     "metadata": {},
     "output_type": "execute_result"
    }
   ],
   "source": [
    "test_df.head()"
   ]
  },
  {
   "cell_type": "markdown",
   "metadata": {},
   "source": [
    "### Principal Compoment Analysis\n",
    "Utilizarei o PCA para ler os os pixels das imagens e reduzir a dimensionalidade em componentes principais."
   ]
  },
  {
   "cell_type": "code",
   "execution_count": 261,
   "metadata": {},
   "outputs": [],
   "source": [
    "pca = PCA(n_components=10)\n",
    "pca_train = pca.fit_transform(train_df.drop(['file','x','y','w','h','classe','HuMoment1','HuMoment2','HuMoment3','HuMoment4','HuMoment5','HuMoment6','HuMoment7'],axis=1))"
   ]
  },
  {
   "cell_type": "code",
   "execution_count": 262,
   "metadata": {},
   "outputs": [
    {
     "data": {
      "text/plain": [
       "array([0.4664989 , 0.06386508, 0.0494556 , 0.03514395, 0.0268593 ,\n",
       "       0.02330568, 0.02062143, 0.01404698, 0.01339074, 0.01249003])"
      ]
     },
     "execution_count": 262,
     "metadata": {},
     "output_type": "execute_result"
    }
   ],
   "source": [
    "pca.explained_variance_ratio_"
   ]
  },
  {
   "cell_type": "markdown",
   "metadata": {},
   "source": [
    "Acima vemos que a proporção de variancia a partir da segunda componente já é muito baixa, por isso apenas a primeira será utilizada."
   ]
  },
  {
   "cell_type": "code",
   "execution_count": 263,
   "metadata": {},
   "outputs": [],
   "source": [
    "train_df['PCA'] = pd.DataFrame(pca_train[:,0], index= train_df.index)"
   ]
  },
  {
   "cell_type": "code",
   "execution_count": 264,
   "metadata": {},
   "outputs": [],
   "source": [
    "pca_test = pca.transform(test_df.drop(['file','x','y','w','h','classe','HuMoment1','HuMoment2','HuMoment3','HuMoment4','HuMoment5','HuMoment6','HuMoment7'],axis=1))"
   ]
  },
  {
   "cell_type": "code",
   "execution_count": 265,
   "metadata": {},
   "outputs": [],
   "source": [
    "test_df['PCA'] = pd.DataFrame(pca_test[:,0], index= test_df.index)"
   ]
  },
  {
   "cell_type": "markdown",
   "metadata": {},
   "source": [
    "#### Scatter plot\n",
    "Scatter plot do PCA com 2 componentes, cada cor representa uma classe."
   ]
  },
  {
   "cell_type": "code",
   "execution_count": 266,
   "metadata": {},
   "outputs": [],
   "source": [
    "# Label to color dict (manual)\n",
    "label_color_dict = {'caneca':'red',\n",
    "                    'caneta':'green',\n",
    "                    'chave':'blue',\n",
    "                    'creme_dental':'magenta',\n",
    "                    'faca':'pink',\n",
    "                    'fio_dental':'yellow',\n",
    "                    'meia':'purple',\n",
    "                    'perfume':'gray',\n",
    "                    'pilha':'orange',\n",
    "                    'shampoo':'brown'}\n",
    "\n",
    "# Color vector creation\n",
    "cvec = [label_color_dict[label] for label in train_df['classe']]"
   ]
  },
  {
   "cell_type": "code",
   "execution_count": 267,
   "metadata": {},
   "outputs": [
    {
     "data": {
      "image/png": "[encoded data removed]",
      "text/plain": [
       "<Figure size 576x576 with 1 Axes>"
      ]
     },
     "metadata": {
      "needs_background": "light"
     },
     "output_type": "display_data"
    }
   ],
   "source": [
    "# Create the scatter plot\n",
    "plt.figure(figsize=(8,8))\n",
    "plt.scatter(pca_train[:,0], pca_train[:,1],\n",
    "            c=cvec, edgecolor='', alpha=0.5)\n",
    "\n",
    "# Add the axis labels\n",
    "plt.xlabel('PC 1 (%.2f%%)' % (pca.explained_variance_ratio_[0]*100))\n",
    "plt.ylabel('PC 2 (%.2f%%)' % (pca.explained_variance_ratio_[1]*100)) \n",
    "\n",
    "# Done\n",
    "plt.show()"
   ]
  },
  {
   "cell_type": "markdown",
   "metadata": {},
   "source": [
    "### Exportação dos dados"
   ]
  },
  {
   "cell_type": "code",
   "execution_count": 268,
   "metadata": {},
   "outputs": [],
   "source": [
    "train_df = train_df[['file','x','y','w','h','classe','HuMoment1','HuMoment2','HuMoment3','HuMoment4','HuMoment5','HuMoment6','HuMoment7','PCA']]\n",
    "test_df = test_df[['file','x','y','w','h','classe','HuMoment1','HuMoment2','HuMoment3','HuMoment4','HuMoment5','HuMoment6','HuMoment7','PCA']]"
   ]
  },
  {
   "cell_type": "code",
   "execution_count": 269,
   "metadata": {},
   "outputs": [],
   "source": [
    "train_df.to_csv('train.csv',index=False)\n",
    "test_df.to_csv('test.csv',index=False)"
   ]
  },
  {
   "cell_type": "markdown",
   "metadata": {},
   "source": [
    "### Criação do Modelo\n",
    "Nesta seção o modelo será criado e as varíaveis necessárias para executa-lo serão criadas."
   ]
  },
  {
   "cell_type": "code",
   "execution_count": 270,
   "metadata": {},
   "outputs": [],
   "source": [
    "train_df = pd.read_csv('train.csv')\n",
    "test_df = pd.read_csv('test.csv')"
   ]
  },
  {
   "cell_type": "code",
   "execution_count": 271,
   "metadata": {},
   "outputs": [],
   "source": [
    "classe_dict = {'caneca':0,\n",
    "                'caneta':1,\n",
    "                'chave':2,\n",
    "                'creme_dental':3,\n",
    "                'faca':4,\n",
    "                'fio_dental':5,\n",
    "                'meia':6,\n",
    "                'perfume':7,\n",
    "                'pilha':8,\n",
    "                'shampoo':9}"
   ]
  },
  {
   "cell_type": "code",
   "execution_count": 272,
   "metadata": {},
   "outputs": [],
   "source": [
    "train_df['classe_n'] = train_df['classe'].replace(classe_dict)\n",
    "test_df['classe_n'] = test_df['classe'].replace(classe_dict)"
   ]
  },
  {
   "cell_type": "code",
   "execution_count": 274,
   "metadata": {},
   "outputs": [
    {
     "data": {
      "text/plain": [
       "file         5400\n",
       "x             151\n",
       "y             211\n",
       "w             220\n",
       "h             309\n",
       "classe         10\n",
       "HuMoment1    5399\n",
       "HuMoment2    5399\n",
       "HuMoment3    5399\n",
       "HuMoment4    5399\n",
       "HuMoment5    5399\n",
       "HuMoment6    5399\n",
       "HuMoment7       1\n",
       "PCA          5399\n",
       "classe_n       10\n",
       "dtype: int64"
      ]
     },
     "execution_count": 274,
     "metadata": {},
     "output_type": "execute_result"
    }
   ],
   "source": [
    "train_df.nunique()"
   ]
  },
  {
   "cell_type": "markdown",
   "metadata": {},
   "source": [
    "Por algum motivo a varíavel HuMoment7 teve valor constante, então ela será retirada."
   ]
  },
  {
   "cell_type": "code",
   "execution_count": 275,
   "metadata": {},
   "outputs": [],
   "source": [
    "variaveis_selecionadas = ['HuMoment1',\n",
    "                          'HuMoment2',\n",
    "                          'HuMoment3',\n",
    "                          'HuMoment4',\n",
    "                          'HuMoment5',\n",
    "                          'HuMoment6',\n",
    "                          #'HuMoment7',\n",
    "                          'PCA',\n",
    "                         ]"
   ]
  },
  {
   "cell_type": "markdown",
   "metadata": {},
   "source": [
    "#### Treinamendo utilizando variáveis que consideram as dimensões da boundingbox"
   ]
  },
  {
   "cell_type": "code",
   "execution_count": 276,
   "metadata": {},
   "outputs": [],
   "source": [
    "IMAGE_SIZE = (240,320)\n",
    "X_train = train_df[variaveis_selecionadas].copy()\n",
    "X_train['w_percentage'] = train_df['w']/IMAGE_SIZE[0]\n",
    "X_train['h_percentage'] = train_df['h']/IMAGE_SIZE[1]\n",
    "X_train['perimeter'] = train_df['w']*2 + train_df['h']*2 \n",
    "X_train['area'] = train_df['w']*train_df['h']\n",
    "X_train['ratio'] = train_df['w']/train_df['h']\n",
    "y_train = train_df.classe_n"
   ]
  },
  {
   "cell_type": "code",
   "execution_count": 277,
   "metadata": {},
   "outputs": [],
   "source": [
    "scaler = preprocessing.StandardScaler()\n",
    "X_train_scaled = scaler.fit_transform(X_train)"
   ]
  },
  {
   "cell_type": "code",
   "execution_count": 278,
   "metadata": {},
   "outputs": [
    {
     "data": {
      "text/plain": [
       "(5400, 12)"
      ]
     },
     "execution_count": 278,
     "metadata": {},
     "output_type": "execute_result"
    }
   ],
   "source": [
    "X_train.shape"
   ]
  },
  {
   "cell_type": "code",
   "execution_count": 279,
   "metadata": {},
   "outputs": [
    {
     "data": {
      "text/html": [
       "<div>\n",
       "<style scoped>\n",
       "    .dataframe tbody tr th:only-of-type {\n",
       "        vertical-align: middle;\n",
       "    }\n",
       "\n",
       "    .dataframe tbody tr th {\n",
       "        vertical-align: top;\n",
       "    }\n",
       "\n",
       "    .dataframe thead th {\n",
       "        text-align: right;\n",
       "    }\n",
       "</style>\n",
       "<table border=\"1\" class=\"dataframe\">\n",
       "  <thead>\n",
       "    <tr style=\"text-align: right;\">\n",
       "      <th></th>\n",
       "      <th>HuMoment1</th>\n",
       "      <th>HuMoment2</th>\n",
       "      <th>HuMoment3</th>\n",
       "      <th>HuMoment4</th>\n",
       "      <th>HuMoment5</th>\n",
       "      <th>HuMoment6</th>\n",
       "      <th>PCA</th>\n",
       "      <th>w_percentage</th>\n",
       "      <th>h_percentage</th>\n",
       "      <th>perimeter</th>\n",
       "      <th>area</th>\n",
       "      <th>ratio</th>\n",
       "    </tr>\n",
       "  </thead>\n",
       "  <tbody>\n",
       "    <tr>\n",
       "      <th>0</th>\n",
       "      <td>-1.435883</td>\n",
       "      <td>-2.871765</td>\n",
       "      <td>-2.544294</td>\n",
       "      <td>-2.544294</td>\n",
       "      <td>-5.088587</td>\n",
       "      <td>-3.980176</td>\n",
       "      <td>21007.737243</td>\n",
       "      <td>0.620833</td>\n",
       "      <td>0.575000</td>\n",
       "      <td>666</td>\n",
       "      <td>27416</td>\n",
       "      <td>0.809783</td>\n",
       "    </tr>\n",
       "    <tr>\n",
       "      <th>1</th>\n",
       "      <td>-1.353685</td>\n",
       "      <td>-2.707371</td>\n",
       "      <td>-0.635754</td>\n",
       "      <td>-0.635754</td>\n",
       "      <td>-1.271508</td>\n",
       "      <td>-1.989440</td>\n",
       "      <td>12941.917155</td>\n",
       "      <td>0.558333</td>\n",
       "      <td>0.453125</td>\n",
       "      <td>558</td>\n",
       "      <td>19430</td>\n",
       "      <td>0.924138</td>\n",
       "    </tr>\n",
       "    <tr>\n",
       "      <th>2</th>\n",
       "      <td>-1.397788</td>\n",
       "      <td>-2.795576</td>\n",
       "      <td>-1.458349</td>\n",
       "      <td>-1.458349</td>\n",
       "      <td>-2.916698</td>\n",
       "      <td>-2.856137</td>\n",
       "      <td>15295.935783</td>\n",
       "      <td>0.616667</td>\n",
       "      <td>0.500000</td>\n",
       "      <td>616</td>\n",
       "      <td>23680</td>\n",
       "      <td>0.925000</td>\n",
       "    </tr>\n",
       "    <tr>\n",
       "      <th>3</th>\n",
       "      <td>-1.386008</td>\n",
       "      <td>-2.772016</td>\n",
       "      <td>-2.194248</td>\n",
       "      <td>-2.194248</td>\n",
       "      <td>-4.388495</td>\n",
       "      <td>-3.580256</td>\n",
       "      <td>20693.248422</td>\n",
       "      <td>0.683333</td>\n",
       "      <td>0.543750</td>\n",
       "      <td>676</td>\n",
       "      <td>28536</td>\n",
       "      <td>0.942529</td>\n",
       "    </tr>\n",
       "    <tr>\n",
       "      <th>4</th>\n",
       "      <td>-1.342616</td>\n",
       "      <td>-2.685233</td>\n",
       "      <td>-1.419343</td>\n",
       "      <td>-1.419343</td>\n",
       "      <td>-2.838687</td>\n",
       "      <td>-2.761960</td>\n",
       "      <td>8523.405807</td>\n",
       "      <td>0.533333</td>\n",
       "      <td>0.415625</td>\n",
       "      <td>522</td>\n",
       "      <td>17024</td>\n",
       "      <td>0.962406</td>\n",
       "    </tr>\n",
       "  </tbody>\n",
       "</table>\n",
       "</div>"
      ],
      "text/plain": [
       "   HuMoment1  HuMoment2  HuMoment3  HuMoment4  HuMoment5  HuMoment6  \\\n",
       "0  -1.435883  -2.871765  -2.544294  -2.544294  -5.088587  -3.980176   \n",
       "1  -1.353685  -2.707371  -0.635754  -0.635754  -1.271508  -1.989440   \n",
       "2  -1.397788  -2.795576  -1.458349  -1.458349  -2.916698  -2.856137   \n",
       "3  -1.386008  -2.772016  -2.194248  -2.194248  -4.388495  -3.580256   \n",
       "4  -1.342616  -2.685233  -1.419343  -1.419343  -2.838687  -2.761960   \n",
       "\n",
       "            PCA  w_percentage  h_percentage  perimeter   area     ratio  \n",
       "0  21007.737243      0.620833      0.575000        666  27416  0.809783  \n",
       "1  12941.917155      0.558333      0.453125        558  19430  0.924138  \n",
       "2  15295.935783      0.616667      0.500000        616  23680  0.925000  \n",
       "3  20693.248422      0.683333      0.543750        676  28536  0.942529  \n",
       "4   8523.405807      0.533333      0.415625        522  17024  0.962406  "
      ]
     },
     "execution_count": 279,
     "metadata": {},
     "output_type": "execute_result"
    }
   ],
   "source": [
    "X_train.head()"
   ]
  },
  {
   "cell_type": "code",
   "execution_count": 280,
   "metadata": {},
   "outputs": [],
   "source": [
    "X_test = test_df[variaveis_selecionadas].copy()\n",
    "X_test['w_percentage'] = test_df['w']/IMAGE_SIZE[0]\n",
    "X_test['h_percentage'] = test_df['h']/IMAGE_SIZE[1]\n",
    "X_test['perimeter'] = test_df['w']*2 + test_df['h']*2 \n",
    "X_test['area'] = test_df['w']*test_df['h']\n",
    "X_test['ratio'] = test_df['w']/test_df['h']\n",
    "y_test = test_df.classe_n"
   ]
  },
  {
   "cell_type": "code",
   "execution_count": 281,
   "metadata": {},
   "outputs": [],
   "source": [
    "X_test_scaled = scaler.transform(X_test)"
   ]
  },
  {
   "cell_type": "code",
   "execution_count": 282,
   "metadata": {},
   "outputs": [],
   "source": [
    "dtree = DecisionTreeClassifier(max_depth = 10).fit(X_train_scaled, y_train) \n",
    "\n",
    "linear = svm.SVC(kernel='linear', C=1, decision_function_shape='ovo').fit(X_train_scaled, y_train)\n",
    "\n",
    "rbf = svm.SVC(kernel='rbf', gamma=1, C=1, decision_function_shape='ovo').fit(X_train_scaled, y_train)\n",
    "\n",
    "poly = svm.SVC(kernel='poly', degree=3, C=1, decision_function_shape='ovo').fit(X_train_scaled, y_train)\n",
    "\n",
    "sig = svm.SVC(kernel='sigmoid', C=1, decision_function_shape='ovo').fit(X_train_scaled, y_train)"
   ]
  },
  {
   "cell_type": "code",
   "execution_count": 283,
   "metadata": {},
   "outputs": [],
   "source": [
    "linear_pred = linear.predict(X_test_scaled)\n",
    "poly_pred = poly.predict(X_test_scaled)\n",
    "rbf_pred = rbf.predict(X_test_scaled)\n",
    "sig_pred = sig.predict(X_test_scaled)\n",
    "dtree_pred = dtree.predict(X_test_scaled) "
   ]
  },
  {
   "cell_type": "code",
   "execution_count": 284,
   "metadata": {},
   "outputs": [],
   "source": [
    "# model accuracy for X_test   \n",
    "linear_accuracy = linear.score(X_test_scaled, y_test) \n",
    "poly_accuracy = poly.score(X_test_scaled, y_test) \n",
    "rbf_accuracy = rbf.score(X_test_scaled, y_test) \n",
    "sig_accuracy = sig.score(X_test_scaled, y_test) \n",
    "dtree_accuracy = dtree.score(X_test_scaled, y_test) "
   ]
  },
  {
   "cell_type": "code",
   "execution_count": 285,
   "metadata": {},
   "outputs": [
    {
     "name": "stdout",
     "output_type": "stream",
     "text": [
      "Linear:  0.6815642458100558\n",
      "Poly:  0.6256983240223464\n",
      "Rbf:  0.6256983240223464\n",
      "Sig:  0.4245810055865922\n",
      "Dtree:  0.7206703910614525\n"
     ]
    }
   ],
   "source": [
    "print('Linear: ',linear_accuracy)\n",
    "print('Poly: ',poly_accuracy)\n",
    "print('Rbf: ',rbf_accuracy)\n",
    "print('Sig: ',sig_accuracy)\n",
    "print('Dtree: ',dtree_accuracy)"
   ]
  },
  {
   "cell_type": "markdown",
   "metadata": {},
   "source": [
    "Com essas variáveis, o modelo de árvore de decisão obteve a melhor acurácia. Veremos mais métricas:"
   ]
  },
  {
   "cell_type": "code",
   "execution_count": 289,
   "metadata": {},
   "outputs": [
    {
     "name": "stdout",
     "output_type": "stream",
     "text": [
      "              precision    recall  f1-score   support\n",
      "\n",
      "      caneca       0.42      0.89      0.57        90\n",
      "      caneta       0.68      0.83      0.75        90\n",
      "       chave       0.64      0.84      0.73        95\n",
      "creme_dental       0.74      0.78      0.76        90\n",
      "        faca       0.79      0.61      0.69        90\n",
      "  fio_dental       0.88      0.88      0.88        85\n",
      "        meia       1.00      0.72      0.84        90\n",
      "     perfume       1.00      0.61      0.76        90\n",
      "       pilha       0.90      0.50      0.64        90\n",
      "     shampoo       0.90      0.53      0.67        85\n",
      "\n",
      "    accuracy                           0.72       895\n",
      "   macro avg       0.79      0.72      0.73       895\n",
      "weighted avg       0.79      0.72      0.73       895\n",
      "\n"
     ]
    }
   ],
   "source": [
    "print(classification_report(y_test, dtree_pred, target_names=classe_dict.keys()))"
   ]
  },
  {
   "cell_type": "markdown",
   "metadata": {},
   "source": [
    "#### Treinamendo sem utilizar variáveis que consideram as dimensões da boundingbox"
   ]
  },
  {
   "cell_type": "code",
   "execution_count": 305,
   "metadata": {},
   "outputs": [],
   "source": [
    "IMAGE_SIZE = (240,320)\n",
    "X_train = train_df[variaveis_selecionadas].copy()\n",
    "y_train = train_df.classe_n"
   ]
  },
  {
   "cell_type": "code",
   "execution_count": 306,
   "metadata": {},
   "outputs": [],
   "source": [
    "scaler = preprocessing.StandardScaler()\n",
    "X_train_scaled = scaler.fit_transform(X_train)"
   ]
  },
  {
   "cell_type": "code",
   "execution_count": 307,
   "metadata": {},
   "outputs": [
    {
     "data": {
      "text/plain": [
       "(5400, 7)"
      ]
     },
     "execution_count": 307,
     "metadata": {},
     "output_type": "execute_result"
    }
   ],
   "source": [
    "X_train.shape"
   ]
  },
  {
   "cell_type": "code",
   "execution_count": 308,
   "metadata": {},
   "outputs": [
    {
     "data": {
      "text/html": [
       "<div>\n",
       "<style scoped>\n",
       "    .dataframe tbody tr th:only-of-type {\n",
       "        vertical-align: middle;\n",
       "    }\n",
       "\n",
       "    .dataframe tbody tr th {\n",
       "        vertical-align: top;\n",
       "    }\n",
       "\n",
       "    .dataframe thead th {\n",
       "        text-align: right;\n",
       "    }\n",
       "</style>\n",
       "<table border=\"1\" class=\"dataframe\">\n",
       "  <thead>\n",
       "    <tr style=\"text-align: right;\">\n",
       "      <th></th>\n",
       "      <th>HuMoment1</th>\n",
       "      <th>HuMoment2</th>\n",
       "      <th>HuMoment3</th>\n",
       "      <th>HuMoment4</th>\n",
       "      <th>HuMoment5</th>\n",
       "      <th>HuMoment6</th>\n",
       "      <th>PCA</th>\n",
       "    </tr>\n",
       "  </thead>\n",
       "  <tbody>\n",
       "    <tr>\n",
       "      <th>0</th>\n",
       "      <td>-1.435883</td>\n",
       "      <td>-2.871765</td>\n",
       "      <td>-2.544294</td>\n",
       "      <td>-2.544294</td>\n",
       "      <td>-5.088587</td>\n",
       "      <td>-3.980176</td>\n",
       "      <td>21007.737243</td>\n",
       "    </tr>\n",
       "    <tr>\n",
       "      <th>1</th>\n",
       "      <td>-1.353685</td>\n",
       "      <td>-2.707371</td>\n",
       "      <td>-0.635754</td>\n",
       "      <td>-0.635754</td>\n",
       "      <td>-1.271508</td>\n",
       "      <td>-1.989440</td>\n",
       "      <td>12941.917155</td>\n",
       "    </tr>\n",
       "    <tr>\n",
       "      <th>2</th>\n",
       "      <td>-1.397788</td>\n",
       "      <td>-2.795576</td>\n",
       "      <td>-1.458349</td>\n",
       "      <td>-1.458349</td>\n",
       "      <td>-2.916698</td>\n",
       "      <td>-2.856137</td>\n",
       "      <td>15295.935783</td>\n",
       "    </tr>\n",
       "    <tr>\n",
       "      <th>3</th>\n",
       "      <td>-1.386008</td>\n",
       "      <td>-2.772016</td>\n",
       "      <td>-2.194248</td>\n",
       "      <td>-2.194248</td>\n",
       "      <td>-4.388495</td>\n",
       "      <td>-3.580256</td>\n",
       "      <td>20693.248422</td>\n",
       "    </tr>\n",
       "    <tr>\n",
       "      <th>4</th>\n",
       "      <td>-1.342616</td>\n",
       "      <td>-2.685233</td>\n",
       "      <td>-1.419343</td>\n",
       "      <td>-1.419343</td>\n",
       "      <td>-2.838687</td>\n",
       "      <td>-2.761960</td>\n",
       "      <td>8523.405807</td>\n",
       "    </tr>\n",
       "  </tbody>\n",
       "</table>\n",
       "</div>"
      ],
      "text/plain": [
       "   HuMoment1  HuMoment2  HuMoment3  HuMoment4  HuMoment5  HuMoment6  \\\n",
       "0  -1.435883  -2.871765  -2.544294  -2.544294  -5.088587  -3.980176   \n",
       "1  -1.353685  -2.707371  -0.635754  -0.635754  -1.271508  -1.989440   \n",
       "2  -1.397788  -2.795576  -1.458349  -1.458349  -2.916698  -2.856137   \n",
       "3  -1.386008  -2.772016  -2.194248  -2.194248  -4.388495  -3.580256   \n",
       "4  -1.342616  -2.685233  -1.419343  -1.419343  -2.838687  -2.761960   \n",
       "\n",
       "            PCA  \n",
       "0  21007.737243  \n",
       "1  12941.917155  \n",
       "2  15295.935783  \n",
       "3  20693.248422  \n",
       "4   8523.405807  "
      ]
     },
     "execution_count": 308,
     "metadata": {},
     "output_type": "execute_result"
    }
   ],
   "source": [
    "X_train.head()"
   ]
  },
  {
   "cell_type": "code",
   "execution_count": 309,
   "metadata": {},
   "outputs": [],
   "source": [
    "X_test = test_df[variaveis_selecionadas].copy()\n",
    "y_test = test_df.classe_n"
   ]
  },
  {
   "cell_type": "code",
   "execution_count": 310,
   "metadata": {},
   "outputs": [],
   "source": [
    "X_test_scaled = scaler.transform(X_test)"
   ]
  },
  {
   "cell_type": "code",
   "execution_count": 311,
   "metadata": {},
   "outputs": [],
   "source": [
    "dtree = DecisionTreeClassifier(max_depth = 10).fit(X_train_scaled, y_train) \n",
    "\n",
    "linear = svm.SVC(kernel='linear', C=1, decision_function_shape='ovo').fit(X_train_scaled, y_train)\n",
    "\n",
    "rbf = svm.SVC(kernel='rbf', gamma=1, C=1, decision_function_shape='ovo').fit(X_train_scaled, y_train)\n",
    "\n",
    "poly = svm.SVC(kernel='poly', degree=3, C=1, decision_function_shape='ovo').fit(X_train_scaled, y_train)\n",
    "\n",
    "sig = svm.SVC(kernel='sigmoid', C=1, decision_function_shape='ovo').fit(X_train_scaled, y_train)"
   ]
  },
  {
   "cell_type": "code",
   "execution_count": 312,
   "metadata": {},
   "outputs": [],
   "source": [
    "linear_pred = linear.predict(X_test_scaled)\n",
    "poly_pred = poly.predict(X_test_scaled)\n",
    "rbf_pred = rbf.predict(X_test_scaled)\n",
    "sig_pred = sig.predict(X_test_scaled)\n",
    "dtree_pred = dtree.predict(X_test_scaled) "
   ]
  },
  {
   "cell_type": "code",
   "execution_count": 313,
   "metadata": {},
   "outputs": [],
   "source": [
    "# model accuracy for X_test   \n",
    "linear_accuracy = linear.score(X_test_scaled, y_test) \n",
    "poly_accuracy = poly.score(X_test_scaled, y_test) \n",
    "rbf_accuracy = rbf.score(X_test_scaled, y_test) \n",
    "sig_accuracy = sig.score(X_test_scaled, y_test) \n",
    "dtree_accuracy = dtree.score(X_test_scaled, y_test) "
   ]
  },
  {
   "cell_type": "code",
   "execution_count": 314,
   "metadata": {},
   "outputs": [
    {
     "name": "stdout",
     "output_type": "stream",
     "text": [
      "Linear:  0.88268156424581\n",
      "Poly:  0.8324022346368715\n",
      "Rbf:  0.9497206703910615\n",
      "Sig:  0.5586592178770949\n",
      "Dtree:  0.9329608938547486\n"
     ]
    }
   ],
   "source": [
    "print('Linear: ',linear_accuracy)\n",
    "print('Poly: ',poly_accuracy)\n",
    "print('Rbf: ',rbf_accuracy)\n",
    "print('Sig: ',sig_accuracy)\n",
    "print('Dtree: ',dtree_accuracy)"
   ]
  },
  {
   "cell_type": "markdown",
   "metadata": {},
   "source": [
    "Com essas variáveis, o modelo SVM com kernel Rbd obteve a melhor acurácia. Veremos mais métricas:"
   ]
  },
  {
   "cell_type": "code",
   "execution_count": 317,
   "metadata": {},
   "outputs": [
    {
     "name": "stdout",
     "output_type": "stream",
     "text": [
      "              precision    recall  f1-score   support\n",
      "\n",
      "      caneca       0.84      0.89      0.86        90\n",
      "      caneta       0.95      1.00      0.97        90\n",
      "       chave       1.00      1.00      1.00        95\n",
      "creme_dental       1.00      1.00      1.00        90\n",
      "        faca       1.00      0.94      0.97        90\n",
      "  fio_dental       0.89      1.00      0.94        85\n",
      "        meia       1.00      0.67      0.80        90\n",
      "     perfume       0.95      1.00      0.97        90\n",
      "       pilha       1.00      1.00      1.00        90\n",
      "     shampoo       0.89      1.00      0.94        85\n",
      "\n",
      "    accuracy                           0.95       895\n",
      "   macro avg       0.95      0.95      0.95       895\n",
      "weighted avg       0.95      0.95      0.95       895\n",
      "\n"
     ]
    }
   ],
   "source": [
    "print(classification_report(y_test, rbf_pred, target_names=classe_dict.keys()))"
   ]
  },
  {
   "cell_type": "markdown",
   "metadata": {},
   "source": [
    "### Conclusão"
   ]
  },
  {
   "cell_type": "markdown",
   "metadata": {},
   "source": [
    "Observa-se que utilizando apenas as variáveis construídas com o PCA e o HuMoment as métricas foram muito melhores. Minha opinião é que isso se deve por estas variáveis utilizarem de fato as características de cada segmentação, enquanto as boundingboxes são apenas retângulos e as varíaveis criadas a partir delas podem ter correlações entre as classes.\n",
    "\n",
    "Com a excessão da meia que atingiu apenas 0.67 em recall, as precisões e recalls de cada classe foram muito boas. A acurácia geral obtida foi muito satisfatória, atingindo 0.95."
   ]
  }
 ],
 "metadata": {
  "kernelspec": {
   "display_name": "Python 3",
   "language": "python",
   "name": "python3"
  },
  "language_info": {
   "codemirror_mode": {
    "name": "ipython",
    "version": 3
   },
   "file_extension": ".py",
   "mimetype": "text/x-python",
   "name": "python",
   "nbconvert_exporter": "python",
   "pygments_lexer": "ipython3",
   "version": "3.7.4"
  }
 },
 "nbformat": 4,
 "nbformat_minor": 4
}
