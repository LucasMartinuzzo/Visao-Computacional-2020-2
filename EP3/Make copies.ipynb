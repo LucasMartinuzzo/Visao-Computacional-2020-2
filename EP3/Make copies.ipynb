{
 "cells": [
  {
   "cell_type": "code",
   "execution_count": 1,
   "metadata": {},
   "outputs": [],
   "source": [
    "from shutil import copy2\n",
    "import os"
   ]
  },
  {
   "cell_type": "code",
   "execution_count": 2,
   "metadata": {},
   "outputs": [],
   "source": [
    "base_directory = \"../Imagens/OSegmentatedGrayDataset\""
   ]
  },
  {
   "cell_type": "code",
   "execution_count": 3,
   "metadata": {},
   "outputs": [],
   "source": [
    "target_directory = \"../Imagens/ManualSegmentatedGrayDataset\""
   ]
  },
  {
   "cell_type": "code",
   "execution_count": 4,
   "metadata": {},
   "outputs": [],
   "source": [
    "def copy_files(source_dir,target_dir):\n",
    "    if not os.path.exists(target_dir):\n",
    "        os.makedirs(target_dir)\n",
    "    classes_dir = os.listdir(source_dir)\n",
    "    i = 0\n",
    "    for class_folder in classes_dir:\n",
    "        target_class_dir = os.path.join(target_dir,class_folder)\n",
    "        if not os.path.exists(target_class_dir):\n",
    "            os.makedirs(target_class_dir)\n",
    "        source_class_dir = os.path.join(source_dir,class_folder)\n",
    "        files = os.listdir(source_class_dir)\n",
    "        for f in files:\n",
    "            source_filename = os.path.join(source_class_dir,f)\n",
    "            prefix = 'gamma'\n",
    "            target_filename = prefix + '_' + f\n",
    "            target_filename = os.path.join(target_class_dir,target_filename)\n",
    "            copy2(source_filename,target_filename)\n",
    "            prefix = 'gradient'\n",
    "            target_filename = prefix + '_' + f\n",
    "            target_filename = os.path.join(target_class_dir,target_filename)\n",
    "            copy2(source_filename,target_filename)\n",
    "            prefix = 'log'\n",
    "            target_filename = prefix + '_' + f\n",
    "            target_filename = os.path.join(target_class_dir,target_filename)\n",
    "            copy2(source_filename,target_filename)\n",
    "            prefix = 'meanFilter'\n",
    "            target_filename = prefix + '_' + f\n",
    "            target_filename = os.path.join(target_class_dir,target_filename)\n",
    "            copy2(source_filename,target_filename)\n",
    "            prefix = 'original'\n",
    "            target_filename = prefix + '_' + f\n",
    "            target_filename = os.path.join(target_class_dir,target_filename)\n",
    "            copy2(source_filename,target_filename)\n",
    "            i+=1\n",
    "    print(\"Finalizado. {} imagens foram processadas.\".format(i))\n",
    "    return"
   ]
  },
  {
   "cell_type": "code",
   "execution_count": 5,
   "metadata": {},
   "outputs": [
    {
     "name": "stdout",
     "output_type": "stream",
     "text": [
      "Finalizado. 179 imagens foram processadas.\n"
     ]
    }
   ],
   "source": [
    "copy_files(base_directory,target_directory)"
   ]
  },
  {
   "cell_type": "code",
   "execution_count": null,
   "metadata": {},
   "outputs": [],
   "source": []
  }
 ],
 "metadata": {
  "kernelspec": {
   "display_name": "Python 3",
   "language": "python",
   "name": "python3"
  },
  "language_info": {
   "codemirror_mode": {
    "name": "ipython",
    "version": 3
   },
   "file_extension": ".py",
   "mimetype": "text/x-python",
   "name": "python",
   "nbconvert_exporter": "python",
   "pygments_lexer": "ipython3",
   "version": "3.7.4"
  }
 },
 "nbformat": 4,
 "nbformat_minor": 4
}
